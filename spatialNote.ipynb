{
 "cells": [
  {
   "cell_type": "code",
   "execution_count": null,
   "metadata": {},
   "outputs": [],
   "source": [
    "from mido import MidiFile, MidiTrack, Message, MetaMessage\n",
    "from pretty_midi import PrettyMIDI\n",
    "from pydub import AudioSegment\n",
    "import os, sys\n",
    "import soundfile as sf\n",
    "import numpy as np\n",
    "from tqdm import tqdm\n",
    "import sofa\n",
    "from scipy import signal\n",
    "from IPython.display import Audio\n",
    "import math"
   ]
  },
  {
   "cell_type": "code",
   "execution_count": null,
   "metadata": {},
   "outputs": [],
   "source": [
    "midiRoute = 'MIDI/Couperin/Couperin_husya.mid'\n",
    "outputDir = 'output/Couperin'\n",
    "\n",
    "# read MIDI file and print basic information\n",
    "mid = MidiFile(midiRoute)\n",
    "print('track num: ', len(mid.tracks))\n",
    "tracks = mid.tracks\n",
    "for i, track in enumerate(mid.tracks):\n",
    "    for msg in track:\n",
    "        if msg.type in ['key_signature', 'track_name', 'instrument_name']:\n",
    "            print(i, msg.dict())\n",
    "midiFileName = midiRoute.split('/')[-1]\n",
    "\n",
    "# synthesize the original MIDI music and play it (so that you can choose which BRIR to use)\n",
    "sr_W = 48000\n",
    "sf2_path = '/usr/local/Cellar/fluid-synth/2.3.0/share/soundfonts/default.sf2'\n",
    "oriMidi = PrettyMIDI(midi_file=midiRoute)\n",
    "oriWav = oriMidi.fluidsynth(fs=sr_W, sf2_path=sf2_path)\n",
    "Audio(oriWav, rate=sr_W)"
   ]
  },
  {
   "cell_type": "code",
   "execution_count": null,
   "metadata": {},
   "outputs": [],
   "source": [
    "# choose one of the BRIR sets with different levels of reverberation effect (from low to high)\n",
    "brirFileList = ['C1', 'LW6', 'L6']\n",
    "brirNo = 2\n",
    "brirFix = brirFileList[brirNo]\n",
    "brirRoute = 'BRIR/%sm.sofa'%(brirFix)\n",
    "\n",
    "brirSet = sofa.Database.open(brirRoute)\n",
    "brir = brirSet.Data.IR.get_values()\n",
    "# calibrate the direction of different brirs\n",
    "if brirFix == 'C1':\n",
    "    pass\n",
    "elif brirFix == 'L6':\n",
    "    brir = np.roll(brir, 5, axis=0)\n",
    "elif brirFix == 'LW6':\n",
    "    brir = np.roll(brir, 9, axis=0)\n",
    "sr = int(brirSet.Data.SamplingRate.get_values()[0])\n",
    "    \n",
    "lenB = brir.shape[2]\n",
    "print('sample rate: ', sr)\n",
    "print(brir.shape)"
   ]
  },
  {
   "cell_type": "code",
   "execution_count": null,
   "metadata": {},
   "outputs": [],
   "source": [
    "# make midi files of different notes\n",
    "noteList = []\n",
    "if not os.path.exists('temp'):\n",
    "    os.mkdir('temp')\n",
    "for noteIdx in range(12):\n",
    "    outMidi = MidiFile()\n",
    "    noteNum = 0\n",
    "    for track in tracks:\n",
    "        outTrack = MidiTrack()\n",
    "        outMidi.tracks.append(outTrack)\n",
    "        \n",
    "        tempTime = 0\n",
    "        for msg in track:\n",
    "            msgType = msg.type\n",
    "            msgDict = msg.dict()\n",
    "            msgDict.pop('type')\n",
    "            \n",
    "            if msg.type in ['note_on', 'note_off'] and msgDict['note']%12 != noteIdx:\n",
    "                tempTime += msgDict['time']\n",
    "            else:\n",
    "                msgDict['time'] += tempTime\n",
    "                if msg.is_meta:\n",
    "                    outMsg = MetaMessage(msgType, **msgDict)\n",
    "                else:\n",
    "                    outMsg = Message(msgType, **msgDict)\n",
    "                outTrack.append(outMsg)\n",
    "                tempTime = 0\n",
    "                if msgType in ['note_on', 'note_off']:\n",
    "                    noteNum += 1\n",
    "    if noteIdx in [0,2,4,5,7,9,11]:\n",
    "        print('%.2d: == %d'%(noteIdx, noteNum)) # white key of piano\n",
    "    else:\n",
    "        print('%.2d:    %d'%(noteIdx, noteNum))\n",
    "    if noteNum != 0:\n",
    "        noteList.append(noteIdx)\n",
    "        outMidi.save('temp/' + os.path.splitext(midiFileName)[0] + '_%d.mid'%(noteIdx))\n",
    "# 0 is for all C, 1 for C# etc\n"
   ]
  },
  {
   "cell_type": "code",
   "execution_count": null,
   "metadata": {},
   "outputs": [],
   "source": [
    "SNwav = np.zeros((2, math.ceil(oriWav.shape[0]*(sr/sr_W)) + lenB - 1))\n",
    "\n",
    "# synthesize midi music of different notes seperately\n",
    "for noteIdx in tqdm(noteList):\n",
    "    tempMidifile = 'temp/' + os.path.splitext(midiFileName)[0] + '_%d.mid'%(noteIdx)\n",
    "    noteMidi = PrettyMIDI(midi_file=tempMidifile)\n",
    "    noteWav = noteMidi.fluidsynth(fs=sr, sf2_path=sf2_path)\n",
    "    B = brir[round(noteIdx * 30/3.6)] # choose brir of specific direction (azimuth)\n",
    "    os.remove(tempMidifile)\n",
    "\n",
    "    SNwavL = signal.fftconvolve(noteWav, B[0])\n",
    "    SNwavR = signal.fftconvolve(noteWav, B[1])\n",
    "    if SNwav.shape[1] == SNwavL.shape[0]:\n",
    "        SNwav += np.vstack((SNwavL, SNwavR))\n",
    "    elif SNwav.shape[1] < SNwavL.shape[0]:\n",
    "        SNwav = np.vstack((SNwavL, SNwavR)) + np.pad(SNwav, ((0,0), (0, SNwavR.shape[0]-SNwav.shape[1])))\n",
    "    else:\n",
    "        SNwav += np.pad(np.vstack((SNwavL, SNwavR)), ((0,0), (0, SNwav.shape[1]-SNwavR.shape[0])))\n",
    "\n",
    "# normalize and output (wav in /temp, mp3 in outputDir)\n",
    "SNwav /= np.max(np.max(np.abs(SNwav)))\n",
    "sf.write('temp/%s_%s.wav'%(os.path.splitext(midiFileName)[0], brirFix), SNwav.T, sr)\n",
    "if not os.path.exists(outputDir):\n",
    "    os.makedirs(outputDir)\n",
    "AudioSegment.from_wav('temp/%s_%s.wav'%(os.path.splitext(midiFileName)[0], brirFix)\n",
    "                      ).export('%s/%s_%s.mp3'%(outputDir, os.path.splitext(midiFileName)[0], brirFix)\n",
    "                               , format=\"mp3\")"
   ]
  },
  {
   "cell_type": "code",
   "execution_count": null,
   "metadata": {},
   "outputs": [],
   "source": []
  }
 ],
 "metadata": {
  "kernelspec": {
   "display_name": "base",
   "language": "python",
   "name": "python3"
  },
  "language_info": {
   "codemirror_mode": {
    "name": "ipython",
    "version": 3
   },
   "file_extension": ".py",
   "mimetype": "text/x-python",
   "name": "python",
   "nbconvert_exporter": "python",
   "pygments_lexer": "ipython3",
   "version": "3.8.3 (default, Jul  2 2020, 11:26:31) \n[Clang 10.0.0 ]"
  },
  "orig_nbformat": 4,
  "vscode": {
   "interpreter": {
    "hash": "40d3a090f54c6569ab1632332b64b2c03c39dcf918b08424e98f38b5ae0af88f"
   }
  }
 },
 "nbformat": 4,
 "nbformat_minor": 2
}
